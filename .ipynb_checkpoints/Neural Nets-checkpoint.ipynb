{
 "cells": [
  {
   "cell_type": "markdown",
   "metadata": {},
   "source": [
    "# Vanilla neural networks"
   ]
  },
  {
   "cell_type": "markdown",
   "metadata": {},
   "source": [
    "### Motivation"
   ]
  },
  {
   "cell_type": "markdown",
   "metadata": {},
   "source": [
    "Let's say you want to build a model that, given an image with a handwritten digit, you want it to **classify that digit**, *with a decent accuracy*. One of the most popular ways to do this is to use a **Vanilla neural network**. Let's dive in!"
   ]
  },
  {
   "cell_type": "markdown",
   "metadata": {},
   "source": [
    "### Structure of a neural network"
   ]
  },
  {
   "cell_type": "markdown",
   "metadata": {},
   "source": [
    "![Neural network](https://upload.wikimedia.org/wikipedia/commons/thumb/4/46/Colored_neural_network.svg/300px-Colored_neural_network.svg.png)"
   ]
  },
  {
   "cell_type": "markdown",
   "metadata": {},
   "source": [
    "A neural network is a collection of *neurons* with *synapses* connecting them(think of it like a graph). The collection is organized in 3 big parts, each with their respective sizes:"
   ]
  },
  {
   "cell_type": "code",
   "execution_count": 1,
   "metadata": {},
   "outputs": [
    {
     "data": {
      "text/html": [
       "<div>\n",
       "<style scoped>\n",
       "    .dataframe tbody tr th:only-of-type {\n",
       "        vertical-align: middle;\n",
       "    }\n",
       "\n",
       "    .dataframe tbody tr th {\n",
       "        vertical-align: top;\n",
       "    }\n",
       "\n",
       "    .dataframe thead th {\n",
       "        text-align: right;\n",
       "    }\n",
       "</style>\n",
       "<table border=\"1\" class=\"dataframe\">\n",
       "  <thead>\n",
       "    <tr style=\"text-align: right;\">\n",
       "      <th></th>\n",
       "      <th>Layer type</th>\n",
       "      <th>Size(in, out)</th>\n",
       "    </tr>\n",
       "  </thead>\n",
       "  <tbody>\n",
       "    <tr>\n",
       "      <th>0</th>\n",
       "      <td>Input</td>\n",
       "      <td>(InputSize, HiddenSize)</td>\n",
       "    </tr>\n",
       "    <tr>\n",
       "      <th>1</th>\n",
       "      <td>Hidden</td>\n",
       "      <td>(HiddenSize, OutputSize)</td>\n",
       "    </tr>\n",
       "    <tr>\n",
       "      <th>2</th>\n",
       "      <td>Output</td>\n",
       "      <td>(OutputSize, NumberOfClasses)</td>\n",
       "    </tr>\n",
       "  </tbody>\n",
       "</table>\n",
       "</div>"
      ],
      "text/plain": [
       "  Layer type                  Size(in, out)\n",
       "0      Input        (InputSize, HiddenSize)\n",
       "1     Hidden       (HiddenSize, OutputSize)\n",
       "2     Output  (OutputSize, NumberOfClasses)"
      ]
     },
     "execution_count": 1,
     "metadata": {},
     "output_type": "execute_result"
    }
   ],
   "source": [
    "import pandas as pd\n",
    "data = [['Input', '(InputSize, HiddenSize)'], ['Hidden', '(HiddenSize, OutputSize)'], ['Output', '(OutputSize, NumberOfClasses)']]\n",
    "pd.DataFrame(data, columns=['Layer type', 'Size(in, out)'])"
   ]
  },
  {
   "cell_type": "markdown",
   "metadata": {},
   "source": [
    "##### Please note that there can be as many hidden layers as you want. In the example above I only used 1 layer. \"Deep\" learning implies multiple hidden layers."
   ]
  },
  {
   "cell_type": "markdown",
   "metadata": {},
   "source": [
    "Moving forward, we will see how to *train* our neural network and how to get a prediction out of it. First, some notation:"
   ]
  },
  {
   "cell_type": "code",
   "execution_count": 2,
   "metadata": {},
   "outputs": [
    {
     "data": {
      "text/html": [
       "<div>\n",
       "<style scoped>\n",
       "    .dataframe tbody tr th:only-of-type {\n",
       "        vertical-align: middle;\n",
       "    }\n",
       "\n",
       "    .dataframe tbody tr th {\n",
       "        vertical-align: top;\n",
       "    }\n",
       "\n",
       "    .dataframe thead th {\n",
       "        text-align: right;\n",
       "    }\n",
       "</style>\n",
       "<table border=\"1\" class=\"dataframe\">\n",
       "  <thead>\n",
       "    <tr style=\"text-align: right;\">\n",
       "      <th></th>\n",
       "      <th>Name</th>\n",
       "      <th>Definition</th>\n",
       "    </tr>\n",
       "  </thead>\n",
       "  <tbody>\n",
       "    <tr>\n",
       "      <th>0</th>\n",
       "      <td>X</td>\n",
       "      <td>Input vector</td>\n",
       "    </tr>\n",
       "    <tr>\n",
       "      <th>1</th>\n",
       "      <td>y</td>\n",
       "      <td>Output vector</td>\n",
       "    </tr>\n",
       "  </tbody>\n",
       "</table>\n",
       "</div>"
      ],
      "text/plain": [
       "  Name     Definition\n",
       "0    X   Input vector\n",
       "1    y  Output vector"
      ]
     },
     "execution_count": 2,
     "metadata": {},
     "output_type": "execute_result"
    }
   ],
   "source": [
    "import pandas as pd\n",
    "data = [['X', 'Input vector'], ['y', 'Output vector']]\n",
    "pd.DataFrame(data, columns=['Name', 'Definition'])"
   ]
  },
  {
   "cell_type": "markdown",
   "metadata": {},
   "source": [
    "So, our neural network takes as input a vector. How do we get this vector? We will use the MNIST dataset, which contains 70.000 28x28 images of handwritten digits."
   ]
  },
  {
   "cell_type": "markdown",
   "metadata": {},
   "source": [
    "### Training the neural network"
   ]
  },
  {
   "cell_type": "markdown",
   "metadata": {},
   "source": [
    "The usual pipeline sounds like this:\n",
    "-  Grab the dataset\n",
    "-  Split it into training and testing batches\n",
    "-  Perform forward/backward propagation on the training set, while minimizing a loss function\n",
    "-  Test your accuracy on the testing batch"
   ]
  },
  {
   "cell_type": "markdown",
   "metadata": {},
   "source": [
    "#### Grabbing the dataset"
   ]
  },
  {
   "cell_type": "markdown",
   "metadata": {},
   "source": [
    "Our implementation will be made using the PyTorch library - easy to use for begginers and also used by veterans. It already contains dataset loaders that will make our life easier."
   ]
  },
  {
   "cell_type": "code",
   "execution_count": 5,
   "metadata": {},
   "outputs": [
    {
     "name": "stdout",
     "output_type": "stream",
     "text": [
      "Downloading http://yann.lecun.com/exdb/mnist/train-images-idx3-ubyte.gz\n",
      "Downloading http://yann.lecun.com/exdb/mnist/train-labels-idx1-ubyte.gz\n",
      "Downloading http://yann.lecun.com/exdb/mnist/t10k-images-idx3-ubyte.gz\n",
      "Downloading http://yann.lecun.com/exdb/mnist/t10k-labels-idx1-ubyte.gz\n",
      "Processing...\n",
      "Done!\n"
     ]
    }
   ],
   "source": [
    "# A few imports\n",
    "from torchvision.datasets import MNIST\n",
    "import torch\n",
    "import torch.nn as nn\n",
    "import torchvision\n",
    "import matplotlib.pyplot as plt\n",
    "\n",
    "train_data = MNIST(root='./data', \n",
    "                   train=True, \n",
    "                   transform=torchvision.transforms.ToTensor(), \n",
    "                   download = True)\n",
    "\n",
    "test_data = MNIST(root='./data', \n",
    "                  train=False, \n",
    "                  transform=torchvision.transforms.ToTensor(), \n",
    "                  download=True)"
   ]
  },
  {
   "cell_type": "code",
   "execution_count": 26,
   "metadata": {},
   "outputs": [
    {
     "name": "stdout",
     "output_type": "stream",
     "text": [
      "Train data size: torch.Size([60000, 28, 28]), \n",
      "Labels: torch.Size([60000])\n",
      "########################################\n",
      "Test data size: torch.Size([10000, 28, 28]), \n",
      "Labels: torch.Size([10000, 28, 28])\n"
     ]
    },
    {
     "data": {
      "image/png": "[encoded data removed]",
      "text/plain": [
       "<Figure size 576x288 with 10 Axes>"
      ]
     },
     "metadata": {},
     "output_type": "display_data"
    }
   ],
   "source": [
    "# Take a look at the data\n",
    "print(f\"Train data size: {train_data.train_data.size()}, \\nLabels: {train_data.train_labels.size()}\")\n",
    "print('#' * 40)\n",
    "print(f\"Test data size: {test_data.test_data.size()}, \\nLabels: {test_data.test_data.size()}\")\n",
    "\n",
    "# Plot some examples from the training set\n",
    "w = 10\n",
    "h = 10\n",
    "fig = plt.figure(figsize=(8,4))\n",
    "columns = 5\n",
    "rows = 2\n",
    "for i in range(1, columns*rows + 1):\n",
    "    img = train_data.train_data[i]\n",
    "    fig.add_subplot(rows, columns, i)\n",
    "    plt.imshow(img, cmap='gray')\n",
    "plt.show()"
   ]
  },
  {
   "cell_type": "markdown",
   "metadata": {},
   "source": [
    "#### Network topology"
   ]
  },
  {
   "cell_type": "markdown",
   "metadata": {},
   "source": [
    "Our input will be fed to the neural network by breaking the (28, 28) matrix that forms the image into a (28x28, 1) vector. "
   ]
  },
  {
   "cell_type": "markdown",
   "metadata": {},
   "source": [
    "The neural network topology that we will use is the following:\n",
    "-  Input = 784 -> Hidden1 = 128\n",
    "-  Hidden1 -> ReLU\n",
    "-  Hidden1 = 128 -> Output = 10(number of classes)"
   ]
  },
  {
   "cell_type": "markdown",
   "metadata": {},
   "source": [
    "#### Training the network"
   ]
  },
  {
   "cell_type": "markdown",
   "metadata": {},
   "source": [
    "Training the neural networks takes place in two big parts:\n",
    "-  Forward propagation\n",
    "-  Backward propagation"
   ]
  },
  {
   "cell_type": "markdown",
   "metadata": {},
   "source": [
    "##### Algorithm"
   ]
  },
  {
   "cell_type": "markdown",
   "metadata": {},
   "source": [
    "-  *1)* Initialize all the weights in the network with random numbers from a normal Gaussian distribution\n",
    "-  *2)* Give an input and propagate it all the way to the output\n",
    "-  *3)* Calculate the loss, with the loss function of your choice\n",
    "-  *4)* Calculate the gradient of the loss function with respect to each weight in the net\n",
    "-  *5)* Optimize the weights with a gradient descent step"
   ]
  },
  {
   "cell_type": "code",
   "execution_count": 50,
   "metadata": {},
   "outputs": [],
   "source": [
    "class Net(nn.Module):\n",
    "    def __init__(self, n_feature, n_hidden, n_output):\n",
    "        super(Net, self).__init__()\n",
    "        self.hidden = nn.Linear(n_feature, n_hidden)\n",
    "        self.relu = nn.ReLU()\n",
    "        self.out = nn.Linear(n_hidden, n_output)\n",
    "    \n",
    "    def forward(self, x):\n",
    "        x = self.hidden(x)\n",
    "        x = self.relu(x)\n",
    "        x = self.out(x)\n",
    "        return x\n",
    "        \n",
    "        "
   ]
  },
  {
   "cell_type": "code",
   "execution_count": 51,
   "metadata": {},
   "outputs": [],
   "source": [
    "model = Net(28*28, 128, 10)"
   ]
  },
  {
   "cell_type": "code",
   "execution_count": 52,
   "metadata": {},
   "outputs": [
    {
     "data": {
      "text/plain": [
       "Net(\n",
       "  (hidden): Linear(in_features=784, out_features=128, bias=True)\n",
       "  (relu): ReLU()\n",
       "  (out): Linear(in_features=128, out_features=10, bias=True)\n",
       ")"
      ]
     },
     "execution_count": 52,
     "metadata": {},
     "output_type": "execute_result"
    }
   ],
   "source": [
    "model"
   ]
  },
  {
   "cell_type": "code",
   "execution_count": 53,
   "metadata": {},
   "outputs": [],
   "source": [
    "from torch.optim import SGD # The optimizer"
   ]
  },
  {
   "cell_type": "code",
   "execution_count": 54,
   "metadata": {},
   "outputs": [],
   "source": [
    "opt_SGD = SGD(model.parameters(), lr = 0.001) #lr = learning rate"
   ]
  },
  {
   "cell_type": "code",
   "execution_count": 55,
   "metadata": {},
   "outputs": [],
   "source": [
    "criterion = nn.CrossEntropyLoss() # Loss function"
   ]
  },
  {
   "cell_type": "code",
   "execution_count": 56,
   "metadata": {},
   "outputs": [],
   "source": [
    "train_loader = torch.utils.data.DataLoader(dataset=train_data, \n",
    "                                           batch_size=100,\n",
    "                                           shuffle = True)\n",
    "test_loader = torch.utils.data.DataLoader(dataset=test_data, \n",
    "                                           batch_size=100,\n",
    "                                           shuffle = False)"
   ]
  },
  {
   "cell_type": "code",
   "execution_count": 61,
   "metadata": {},
   "outputs": [
    {
     "name": "stderr",
     "output_type": "stream",
     "text": [
      "/home/alex/anaconda3/lib/python3.6/site-packages/ipykernel_launcher.py:27: UserWarning: invalid index of a 0-dim tensor. This will be an error in PyTorch 0.5. Use tensor.item() to convert a 0-dim tensor to a Python number\n"
     ]
    },
    {
     "name": "stdout",
     "output_type": "stream",
     "text": [
      "Epoch [1/20], Step [100/600], Loss: 2.2509\n",
      "Epoch [1/20], Step [200/600], Loss: 2.2324\n",
      "Epoch [1/20], Step [300/600], Loss: 2.1879\n",
      "Epoch [1/20], Step [400/600], Loss: 2.1935\n",
      "Epoch [1/20], Step [500/600], Loss: 2.1645\n",
      "Epoch [1/20], Step [600/600], Loss: 2.1477\n",
      "Epoch [2/20], Step [100/600], Loss: 2.1086\n",
      "Epoch [2/20], Step [200/600], Loss: 2.0719\n",
      "Epoch [2/20], Step [300/600], Loss: 2.0946\n",
      "Epoch [2/20], Step [400/600], Loss: 2.0519\n",
      "Epoch [2/20], Step [500/600], Loss: 2.0243\n",
      "Epoch [2/20], Step [600/600], Loss: 1.9864\n",
      "Epoch [3/20], Step [100/600], Loss: 1.9710\n",
      "Epoch [3/20], Step [200/600], Loss: 1.9343\n",
      "Epoch [3/20], Step [300/600], Loss: 1.9396\n",
      "Epoch [3/20], Step [400/600], Loss: 1.8458\n",
      "Epoch [3/20], Step [500/600], Loss: 1.8581\n",
      "Epoch [3/20], Step [600/600], Loss: 1.7885\n",
      "Epoch [4/20], Step [100/600], Loss: 1.7504\n",
      "Epoch [4/20], Step [200/600], Loss: 1.6931\n",
      "Epoch [4/20], Step [300/600], Loss: 1.7593\n",
      "Epoch [4/20], Step [400/600], Loss: 1.6767\n",
      "Epoch [4/20], Step [500/600], Loss: 1.6977\n",
      "Epoch [4/20], Step [600/600], Loss: 1.6041\n",
      "Epoch [5/20], Step [100/600], Loss: 1.6162\n",
      "Epoch [5/20], Step [200/600], Loss: 1.5540\n",
      "Epoch [5/20], Step [300/600], Loss: 1.5365\n",
      "Epoch [5/20], Step [400/600], Loss: 1.5571\n",
      "Epoch [5/20], Step [500/600], Loss: 1.5057\n",
      "Epoch [5/20], Step [600/600], Loss: 1.4693\n",
      "Epoch [6/20], Step [100/600], Loss: 1.3924\n",
      "Epoch [6/20], Step [200/600], Loss: 1.3930\n",
      "Epoch [6/20], Step [300/600], Loss: 1.3219\n",
      "Epoch [6/20], Step [400/600], Loss: 1.3517\n",
      "Epoch [6/20], Step [500/600], Loss: 1.2347\n",
      "Epoch [6/20], Step [600/600], Loss: 1.3074\n",
      "Epoch [7/20], Step [100/600], Loss: 1.1829\n",
      "Epoch [7/20], Step [200/600], Loss: 1.2794\n",
      "Epoch [7/20], Step [300/600], Loss: 1.1709\n",
      "Epoch [7/20], Step [400/600], Loss: 1.2210\n",
      "Epoch [7/20], Step [500/600], Loss: 1.1831\n",
      "Epoch [7/20], Step [600/600], Loss: 1.1079\n",
      "Epoch [8/20], Step [100/600], Loss: 1.1637\n",
      "Epoch [8/20], Step [200/600], Loss: 1.0038\n",
      "Epoch [8/20], Step [300/600], Loss: 1.0590\n",
      "Epoch [8/20], Step [400/600], Loss: 1.0312\n",
      "Epoch [8/20], Step [500/600], Loss: 1.0192\n",
      "Epoch [8/20], Step [600/600], Loss: 0.9932\n",
      "Epoch [9/20], Step [100/600], Loss: 1.1542\n",
      "Epoch [9/20], Step [200/600], Loss: 0.9648\n",
      "Epoch [9/20], Step [300/600], Loss: 1.0597\n",
      "Epoch [9/20], Step [400/600], Loss: 1.0355\n",
      "Epoch [9/20], Step [500/600], Loss: 0.9084\n",
      "Epoch [9/20], Step [600/600], Loss: 0.8196\n",
      "Epoch [10/20], Step [100/600], Loss: 0.8595\n",
      "Epoch [10/20], Step [200/600], Loss: 0.7675\n",
      "Epoch [10/20], Step [300/600], Loss: 0.8820\n",
      "Epoch [10/20], Step [400/600], Loss: 0.8837\n",
      "Epoch [10/20], Step [500/600], Loss: 0.8937\n",
      "Epoch [10/20], Step [600/600], Loss: 0.8063\n",
      "Epoch [11/20], Step [100/600], Loss: 0.8602\n",
      "Epoch [11/20], Step [200/600], Loss: 0.8533\n",
      "Epoch [11/20], Step [300/600], Loss: 0.8115\n",
      "Epoch [11/20], Step [400/600], Loss: 0.8263\n",
      "Epoch [11/20], Step [500/600], Loss: 0.7922\n",
      "Epoch [11/20], Step [600/600], Loss: 0.7051\n",
      "Epoch [12/20], Step [100/600], Loss: 0.7311\n",
      "Epoch [12/20], Step [200/600], Loss: 0.7667\n",
      "Epoch [12/20], Step [300/600], Loss: 0.6965\n",
      "Epoch [12/20], Step [400/600], Loss: 0.6803\n",
      "Epoch [12/20], Step [500/600], Loss: 0.8226\n",
      "Epoch [12/20], Step [600/600], Loss: 0.7329\n",
      "Epoch [13/20], Step [100/600], Loss: 0.7160\n",
      "Epoch [13/20], Step [200/600], Loss: 0.6980\n",
      "Epoch [13/20], Step [300/600], Loss: 0.7597\n",
      "Epoch [13/20], Step [400/600], Loss: 0.6373\n",
      "Epoch [13/20], Step [500/600], Loss: 0.6019\n",
      "Epoch [13/20], Step [600/600], Loss: 0.6136\n",
      "Epoch [14/20], Step [100/600], Loss: 0.5187\n",
      "Epoch [14/20], Step [200/600], Loss: 0.6666\n",
      "Epoch [14/20], Step [300/600], Loss: 0.6945\n",
      "Epoch [14/20], Step [400/600], Loss: 0.7147\n",
      "Epoch [14/20], Step [500/600], Loss: 0.6405\n",
      "Epoch [14/20], Step [600/600], Loss: 0.6578\n",
      "Epoch [15/20], Step [100/600], Loss: 0.5632\n",
      "Epoch [15/20], Step [200/600], Loss: 0.6034\n",
      "Epoch [15/20], Step [300/600], Loss: 0.6533\n",
      "Epoch [15/20], Step [400/600], Loss: 0.7562\n",
      "Epoch [15/20], Step [500/600], Loss: 0.7490\n",
      "Epoch [15/20], Step [600/600], Loss: 0.5827\n",
      "Epoch [16/20], Step [100/600], Loss: 0.6577\n",
      "Epoch [16/20], Step [200/600], Loss: 0.5359\n",
      "Epoch [16/20], Step [300/600], Loss: 0.6118\n",
      "Epoch [16/20], Step [400/600], Loss: 0.7295\n",
      "Epoch [16/20], Step [500/600], Loss: 0.6758\n",
      "Epoch [16/20], Step [600/600], Loss: 0.6461\n",
      "Epoch [17/20], Step [100/600], Loss: 0.6242\n",
      "Epoch [17/20], Step [200/600], Loss: 0.5669\n",
      "Epoch [17/20], Step [300/600], Loss: 0.7089\n",
      "Epoch [17/20], Step [400/600], Loss: 0.5543\n",
      "Epoch [17/20], Step [500/600], Loss: 0.4471\n",
      "Epoch [17/20], Step [600/600], Loss: 0.5171\n",
      "Epoch [18/20], Step [100/600], Loss: 0.6233\n",
      "Epoch [18/20], Step [200/600], Loss: 0.6451\n",
      "Epoch [18/20], Step [300/600], Loss: 0.6101\n",
      "Epoch [18/20], Step [400/600], Loss: 0.5240\n",
      "Epoch [18/20], Step [500/600], Loss: 0.4623\n",
      "Epoch [18/20], Step [600/600], Loss: 0.5529\n",
      "Epoch [19/20], Step [100/600], Loss: 0.5510\n",
      "Epoch [19/20], Step [200/600], Loss: 0.4772\n",
      "Epoch [19/20], Step [300/600], Loss: 0.5482\n",
      "Epoch [19/20], Step [400/600], Loss: 0.5063\n",
      "Epoch [19/20], Step [500/600], Loss: 0.4678\n",
      "Epoch [19/20], Step [600/600], Loss: 0.5245\n",
      "Epoch [20/20], Step [100/600], Loss: 0.4702\n",
      "Epoch [20/20], Step [200/600], Loss: 0.4614\n",
      "Epoch [20/20], Step [300/600], Loss: 0.4366\n",
      "Epoch [20/20], Step [400/600], Loss: 0.5965\n",
      "Epoch [20/20], Step [500/600], Loss: 0.4560\n",
      "Epoch [20/20], Step [600/600], Loss: 0.5836\n"
     ]
    }
   ],
   "source": [
    "from torch.autograd import Variable\n",
    "\n",
    "num_epochs = 20\n",
    "batch_size = 100\n",
    "for epoch in range(num_epochs):\n",
    "    for i, (images, labels) in enumerate(train_loader):\n",
    "        # Convert tensors to variables\n",
    "        images = Variable(images.view(-1, 28*28))\n",
    "        labels = Variable(labels)\n",
    "\n",
    "        opt_SGD.zero_grad() # Zero out all gradients\n",
    "\n",
    "        # Calculate the output\n",
    "        outputs = model(images)\n",
    "\n",
    "        # Calculate the loss function based on the output and the truth\n",
    "        loss = criterion(outputs, labels)\n",
    "\n",
    "        # Backward pass\n",
    "        loss.backward()\n",
    "\n",
    "        # Update the weights\n",
    "        opt_SGD.step()\n",
    "\n",
    "        if (i + 1) % 100 == 0:\n",
    "            print('Epoch [%d/%d], Step [%d/%d], Loss: %.4f'\n",
    "                     %(epoch+1, num_epochs, i+1, len(train_data)//batch_size, loss.data[0]))"
   ]
  },
  {
   "cell_type": "code",
   "execution_count": 63,
   "metadata": {},
   "outputs": [
    {
     "name": "stdout",
     "output_type": "stream",
     "text": [
      "Accuracy: 87 %\n"
     ]
    }
   ],
   "source": [
    "correct = 0\n",
    "total = 0\n",
    "for images, labels in test_loader:\n",
    "    images = Variable(images.view(-1, 28*28))\n",
    "    outputs = model(images)\n",
    "    _, predicted = torch.max(outputs.data, 1)  # Choose the best class from the output: The class with the best score\n",
    "    total += labels.size(0)                    # Increment the total count\n",
    "    correct += (predicted == labels).sum()     # Increment the correct count\n",
    "    \n",
    "print('Accuracy: %d %%' % (100 * correct / total))"
   ]
  },
  {
   "cell_type": "code",
   "execution_count": 64,
   "metadata": {},
   "outputs": [],
   "source": [
    "# To save the trained model:\n",
    "torch.save(model.state_dict(), 'model.pkl')"
   ]
  },
  {
   "cell_type": "markdown",
   "metadata": {},
   "source": [
    "### Problems with vanilla DNNs"
   ]
  },
  {
   "cell_type": "markdown",
   "metadata": {},
   "source": [
    "The problem with vanilla DNNs is that they don't scale well with the size of the picture. In order to take as input a 28x28 picture, we had to keep in memory and train a bunch of weights, even for a very basic topology! Now imagine going up in size with a 1920x1080 picture or something along these lines. From 28x28 = 784 we go to 1920x1080 = 2073600. It's simply not doable."
   ]
  },
  {
   "cell_type": "markdown",
   "metadata": {},
   "source": [
    "## Convolutional neural networks"
   ]
  },
  {
   "cell_type": "markdown",
   "metadata": {},
   "source": [
    "3D volumes of neurons. Convolutional Neural Networks take advantage of the fact that the input consists of images and they constrain the architecture in a more sensible way. In particular, unlike a regular Neural Network, the layers of a ConvNet have neurons arranged in 3 dimensions: width, height, depth. (Note that the word depth here refers to the third dimension of an activation volume, not to the depth of a full Neural Network, which can refer to the total number of layers in a network.)"
   ]
  },
  {
   "cell_type": "markdown",
   "metadata": {},
   "source": [
    "![CNN](http://cs231n.github.io/assets/nn1/neural_net2.jpeg)"
   ]
  },
  {
   "cell_type": "markdown",
   "metadata": {},
   "source": [
    "![CNN2](http://cs231n.github.io/assets/cnn/cnn.jpeg)"
   ]
  },
  {
   "cell_type": "markdown",
   "metadata": {},
   "source": [
    "A simple ConvNet is a sequence of layers, and every layer of a ConvNet transforms one volume of activations to another through a differentiable function. We use three main types of layers to build ConvNet architectures: Convolutional Layer, Pooling Layer, and Fully-Connected Layer (exactly as seen in regular Neural Networks). We will stack these layers to form a full ConvNet architecture."
   ]
  },
  {
   "cell_type": "markdown",
   "metadata": {},
   "source": [
    "This is an example on what the CNNs learn:"
   ]
  },
  {
   "cell_type": "markdown",
   "metadata": {},
   "source": [
    "![CNNLayers](http://cs231n.github.io/assets/cnn/weights.jpeg)"
   ]
  },
  {
   "cell_type": "markdown",
   "metadata": {},
   "source": [
    "![ASD](http://cs231n.github.io/assets/cnn/convnet.jpeg)"
   ]
  },
  {
   "cell_type": "markdown",
   "metadata": {},
   "source": [
    "Code example:"
   ]
  },
  {
   "cell_type": "code",
   "execution_count": 4,
   "metadata": {},
   "outputs": [
    {
     "ename": "NameError",
     "evalue": "name 'trainloader' is not defined",
     "output_type": "error",
     "traceback": [
      "\u001b[0;31m---------------------------------------------------------------------------\u001b[0m",
      "\u001b[0;31mNameError\u001b[0m                                 Traceback (most recent call last)",
      "\u001b[0;32m<ipython-input-4-fa9ed39cf7c8>\u001b[0m in \u001b[0;36m<module>\u001b[0;34m()\u001b[0m\n\u001b[1;32m     49\u001b[0m                     100. * batch_index / len(trainloader), loss.data[0]))\n\u001b[1;32m     50\u001b[0m \u001b[0;32mfor\u001b[0m \u001b[0mepoch\u001b[0m \u001b[0;32min\u001b[0m \u001b[0mrange\u001b[0m\u001b[0;34m(\u001b[0m\u001b[0;36m4\u001b[0m\u001b[0;34m)\u001b[0m\u001b[0;34m:\u001b[0m \u001b[0;31m# loop over the dataset multiple times\u001b[0m\u001b[0;34m\u001b[0m\u001b[0m\n\u001b[0;32m---> 51\u001b[0;31m     \u001b[0mtrain\u001b[0m\u001b[0;34m(\u001b[0m\u001b[0mepoch\u001b[0m\u001b[0;34m)\u001b[0m\u001b[0;34m\u001b[0m\u001b[0m\n\u001b[0m",
      "\u001b[0;32m<ipython-input-4-fa9ed39cf7c8>\u001b[0m in \u001b[0;36mtrain\u001b[0;34m(epoch)\u001b[0m\n\u001b[1;32m     37\u001b[0m \u001b[0;32mdef\u001b[0m \u001b[0mtrain\u001b[0m\u001b[0;34m(\u001b[0m\u001b[0mepoch\u001b[0m\u001b[0;34m)\u001b[0m\u001b[0;34m:\u001b[0m\u001b[0;34m\u001b[0m\u001b[0m\n\u001b[1;32m     38\u001b[0m     \u001b[0mnet\u001b[0m\u001b[0;34m.\u001b[0m\u001b[0mtrain\u001b[0m\u001b[0;34m(\u001b[0m\u001b[0;34m)\u001b[0m\u001b[0;34m\u001b[0m\u001b[0m\n\u001b[0;32m---> 39\u001b[0;31m     \u001b[0;32mfor\u001b[0m \u001b[0mbatch_index\u001b[0m\u001b[0;34m,\u001b[0m \u001b[0;34m(\u001b[0m\u001b[0minputs\u001b[0m\u001b[0;34m,\u001b[0m \u001b[0mlabels\u001b[0m\u001b[0;34m)\u001b[0m \u001b[0;32min\u001b[0m \u001b[0menumerate\u001b[0m\u001b[0;34m(\u001b[0m\u001b[0mtrainloader\u001b[0m\u001b[0;34m)\u001b[0m\u001b[0;34m:\u001b[0m\u001b[0;34m\u001b[0m\u001b[0m\n\u001b[0m\u001b[1;32m     40\u001b[0m         \u001b[0minputs\u001b[0m\u001b[0;34m,\u001b[0m \u001b[0mlabels\u001b[0m \u001b[0;34m=\u001b[0m \u001b[0mVariable\u001b[0m\u001b[0;34m(\u001b[0m\u001b[0minputs\u001b[0m\u001b[0;34m)\u001b[0m\u001b[0;34m,\u001b[0m \u001b[0mVariable\u001b[0m\u001b[0;34m(\u001b[0m\u001b[0mtorch\u001b[0m\u001b[0;34m.\u001b[0m\u001b[0msqueeze\u001b[0m\u001b[0;34m(\u001b[0m\u001b[0mlabels\u001b[0m\u001b[0;34m)\u001b[0m\u001b[0;34m)\u001b[0m\u001b[0;34m\u001b[0m\u001b[0m\n\u001b[1;32m     41\u001b[0m         \u001b[0moptimizer\u001b[0m\u001b[0;34m.\u001b[0m\u001b[0mzero_grad\u001b[0m\u001b[0;34m(\u001b[0m\u001b[0;34m)\u001b[0m\u001b[0;34m\u001b[0m\u001b[0m\n",
      "\u001b[0;31mNameError\u001b[0m: name 'trainloader' is not defined"
     ]
    }
   ],
   "source": [
    "import torch\n",
    "from torch.autograd import Variable\n",
    "import torch.nn as nn\n",
    "import torch.nn.functional as F\n",
    "import torchvision\n",
    "from torchvision import datasets, transforms\n",
    "import torch.optim as optim\n",
    "\n",
    "\n",
    "class Net(nn.Module):\n",
    "    def __init__(self):\n",
    "        super(Net, self).__init__()\n",
    "        self.conv1 = nn.Conv2d(1, 10, kernel_size=5)\n",
    "        self.conv2 = nn.Conv2d(10, 20, kernel_size=5)\n",
    "        self.conv2_drop = nn.Dropout2d()\n",
    "        self.fc1 = nn.Linear(320, 120)\n",
    "        self.fc1_drop = nn.Dropout()\n",
    "        self.fc2 = nn.Linear(120, 10)\n",
    "        \n",
    "    def forward(self, x):\n",
    "        x = F.relu(F.max_pool2d(self.conv1(x), 2))\n",
    "        x = F.relu(F.max_pool2d(self.conv2_drop(self.conv2(x)), 2))\n",
    "        x = x.view(-1, self.num_flat_features(x))\n",
    "        x = F.relu(self.fc1_drop(self.fc1(x)))\n",
    "        x = F.relu(self.fc2(x))\n",
    "        return F.log_softmax(x)\n",
    "    \n",
    "    def num_flat_features(self, x):\n",
    "        size = x.size()[1:] # all dimensions except the batch dimension\n",
    "        num_features = 1\n",
    "        for s in size:\n",
    "            num_features *= s\n",
    "        return num_features\n",
    "\n",
    "net = Net()\n",
    "optimizer = optim.Adam(net.parameters())\n",
    "def train(epoch):\n",
    "    net.train()\n",
    "    for batch_index, (inputs, labels) in enumerate(trainloader):\n",
    "        inputs, labels = Variable(inputs), Variable(torch.squeeze(labels))\n",
    "        optimizer.zero_grad()\n",
    "        outputs = net(inputs)\n",
    "        loss = F.nll_loss(outputs, labels)\n",
    "        loss.backward()\n",
    "        optimizer.step()\n",
    "        if batch_index % 400 == 0:\n",
    "            print('Train Epoch: {} [{}/{} ({:.0f}%)]\\tLoss: {:.6f}'.format(\n",
    "                    epoch, batch_index * len(inputs), len(trainloader.dataset),\n",
    "                    100. * batch_index / len(trainloader), loss.data[0]))\n",
    "for epoch in range(4): # loop over the dataset multiple times\n",
    "    train(epoch)"
   ]
  },
  {
   "cell_type": "code",
   "execution_count": null,
   "metadata": {},
   "outputs": [],
   "source": []
  }
 ],
 "metadata": {
  "kernelspec": {
   "display_name": "Python 3",
   "language": "python",
   "name": "python3"
  },
  "language_info": {
   "codemirror_mode": {
    "name": "ipython",
    "version": 3
   },
   "file_extension": ".py",
   "mimetype": "text/x-python",
   "name": "python",
   "nbconvert_exporter": "python",
   "pygments_lexer": "ipython3",
   "version": "3.6.5"
  }
 },
 "nbformat": 4,
 "nbformat_minor": 2
}
